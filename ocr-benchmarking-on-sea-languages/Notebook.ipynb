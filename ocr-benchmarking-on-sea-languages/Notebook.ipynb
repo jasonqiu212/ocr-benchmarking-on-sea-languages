{
 "cells": [
  {
   "cell_type": "markdown",
   "id": "363c3a31",
   "metadata": {},
   "source": [
    "# Benchmarking and Improving OCR System for Southeast Asian Languages\n",
    "\n",
    "## Data Collection\n",
    "\n",
    "This section describes the process of collecting the data from Wikipedia."
   ]
  },
  {
   "cell_type": "code",
   "execution_count": 4,
   "id": "a7d950a0",
   "metadata": {},
   "outputs": [],
   "source": [
    "from data_collection.article_pdf import ArticlePDF\n",
    "from data_collection.download import download_article_texts, download_article_pdfs, get_articles_by_language"
   ]
  },
  {
   "cell_type": "markdown",
   "id": "7510f6ae",
   "metadata": {},
   "source": [
    "### Collecting Articles in English\n",
    "\n",
    "I chose 100 Wikipedia articles as my dataset. These 100 articles are a collection of the top 20 most viewed Wikipedia articles from 5 categories ([Wikipedia:Popular pages](https://en.wikipedia.org/wiki/Wikipedia:Popular_pages)). From this list, I collected the article's URL file path in English."
   ]
  },
  {
   "cell_type": "code",
   "execution_count": 2,
   "id": "94142e8a",
   "metadata": {},
   "outputs": [],
   "source": [
    "people = ['Donald_Trump', 'Elizabeth_II', 'Barack_Obama', 'Christiano_Ronaldo', 'Michael_Jackson', 'Elon_Musk', 'Lady_Gaga', 'Adolf_Hitler', 'Eminem', 'Lionel_Messi', 'Justin_Bieber', 'Freddie_Mercury', 'Kim_Kardashian', 'Johnny_Depp', 'Steve_Jobs', 'Dwayne_Johnson', 'Michael_Jordan', 'Taylor_Swift', 'Stephen_Hawking', 'Kanye_West']\n",
    "countries = ['United_States', 'India', 'United_Kingdom', 'Canada', 'Australia', 'China', 'Russia', 'Japan', 'Germany', 'France', 'Singapore', 'Israel', 'Pakistan', 'Philippines', 'Brazil', 'Italy', 'Netherlands', 'New Zealand', 'Ukraine', 'Spain']\n",
    "cities = ['New_York_City', 'London', 'Hong_Kong', 'Los_Angeles', 'Dubai', 'Washington,_D.C.', 'Paris', 'Chicago', 'Angelsberg', 'Mumbai', 'San_Francisco', 'Rome', 'Monaco', 'Toronto', 'Tokyo', 'Philadelphia', 'Machu_Picchu', 'Jerusalem', 'Amsterdam', 'Boston'] # Excluding Singapore since listed for countries\n",
    "life = ['Cat', 'Dog', 'Animal', 'Lion', 'Coronavirus', 'Tiger', 'Human', 'Dinosaur', 'Elephant', 'Virus', 'Horse', 'Photosynthesis', 'Evolution', 'Apple', 'Bird', 'Mammal', 'Potato', 'Polar_bear', 'Shark', 'Snake']\n",
    "structures = ['Taj_Mahal', 'Burj_Khalifa', 'Statue_of_Liberty', 'Great_Wall_of_China', 'Eiffel_Tower', 'Berlin_Wall', 'Stonehenge', 'Mount_Rushmore', 'Colosseum', 'Auschwitz_concentration_camp', 'Great_Pyramid_of_Giza', 'One_World_Trade_Center', 'Empire_State_Building', 'White_House', 'Petra', 'Large_Hadron_Collider', 'Hagia_Sophia', 'Golden_Gate_Bridge', 'Panama_Canal', 'Angkor_Wat'] # Excluding Machu Picchu since listed for cities\n",
    "\n",
    "english_titles = people + countries + cities + life + structures\n",
    "\n",
    "english_articles = []\n",
    "for english_title in english_titles:\n",
    "    url = f'https://en.wikipedia.org/wiki/{english_title}'\n",
    "    article = ArticlePDF(english_title, english_title, url, 'en')\n",
    "    english_articles.append(article)"
   ]
  },
  {
   "cell_type": "markdown",
   "id": "1593c99f",
   "metadata": {},
   "source": [
    "### Collecting Articles in SEA Languages\n",
    "\n",
    "Using the [MediaWiki Action API](https://www.mediawiki.org/wiki/API:Main_page), I then collected the articles' URLs and names in the following languages:\n",
    "- Thai\n",
    "- Vietnamese\n",
    "- Bahasa Indonesian\n",
    "\n",
    "\n",
    "I referred to the [Wikimedia Language Codes](https://www.wikidata.org/wiki/Help:Wikimedia_language_codes/lists/all) to identify the mapping of languages to language codes used by the API.\n",
    "\n",
    "The API failed to fetch some English articles in other languages. The missing articles include:\n",
    "- Thai:\n",
    "    - Christiano_Ronaldo\n",
    "    - Angelsberg\n",
    "- Vietnamese:\n",
    "    - Christiano_Ronaldo\n",
    "    - Angelsberg\n",
    "- Bahasa:\n",
    "    - Christiano_Ronaldo\n",
    "    - Angelsberg"
   ]
  },
  {
   "cell_type": "code",
   "execution_count": 3,
   "id": "c2b302c4",
   "metadata": {},
   "outputs": [
    {
     "name": "stdout",
     "output_type": "stream",
     "text": [
      "Issue fetching for Christiano_Ronaldo in th\n",
      "Issue fetching for Angelsberg in th\n",
      "Issue fetching for Christiano_Ronaldo in vi\n",
      "Issue fetching for Angelsberg in vi\n",
      "Issue fetching for Christiano_Ronaldo in id\n",
      "Issue fetching for Angelsberg in id\n"
     ]
    }
   ],
   "source": [
    "thai_articles = get_articles_by_language(english_articles, 'th')\n",
    "vietnamese_articles = get_articles_by_language(english_articles, 'vi')\n",
    "bahasa_articles = get_articles_by_language(english_articles, 'id')"
   ]
  },
  {
   "cell_type": "markdown",
   "id": "6a8f4ebf",
   "metadata": {},
   "source": [
    "### Downloading Article PDFs and Text\n",
    "\n",
    "At this point, I had collected the following meta data for each article in each language:\n",
    "- Article title\n",
    "- Article title in English\n",
    "- Article URL\n",
    "- Language of article\n",
    "\n",
    "Using [Selenium](https://selenium-python.readthedocs.io/), I then downloaded the articles in PDF format. These PDFs serve as my dataset of images to perform OCR on.\n",
    "\n",
    "Lastly, using [MediaWiki Action API](https://www.mediawiki.org/wiki/API:Main_page), I downloaded the text of the articles into `.txt` files. These files serve as my ground truth.\n",
    "\n",
    "Some things to note:\n",
    "- Downloading the articles take around 10-15 minutes.\n",
    "- You can change the destination folder to store the downloaded files by modifying the arguments passed into `download_article_pdfs` and `download_article_texts`. Currently, it's set to `data/<language>`."
   ]
  },
  {
   "cell_type": "code",
   "execution_count": 4,
   "id": "ab0f24a9",
   "metadata": {},
   "outputs": [],
   "source": [
    "download_article_pdfs(english_articles, '../data/english')\n",
    "download_article_pdfs(thai_articles, '../data/thai')\n",
    "download_article_pdfs(vietnamese_articles, '../data/vietnamese')\n",
    "download_article_pdfs(bahasa_articles, '../data/bahasa')\n",
    "\n",
    "download_article_texts(english_articles, '../data/english')\n",
    "download_article_texts(thai_articles, '../data/thai')\n",
    "download_article_texts(vietnamese_articles, '../data/vietnamese')\n",
    "download_article_texts(bahasa_articles, '../data/bahasa')"
   ]
  },
  {
   "cell_type": "markdown",
   "id": "9bd5b8df",
   "metadata": {},
   "source": [
    "## Data Preprocessing\n",
    "\n",
    "This section describes the steps done to pre-process the collected data.\n",
    "\n",
    "### Converting PDFs to Images\n",
    "\n",
    "As most OCR tools do not read documents in PDF format, I converted the collected PDFs into PNG images. If the PDF file has multiple pages, then multiple PNG images are stored to represent each page."
   ]
  },
  {
   "cell_type": "code",
   "execution_count": 2,
   "id": "f4ee9192",
   "metadata": {},
   "outputs": [],
   "source": [
    "from preprocess import convert_pdfs_to_pngs\n",
    "\n",
    "convert_pdfs_to_pngs('../data/english')\n",
    "convert_pdfs_to_pngs('../data/thai')\n",
    "convert_pdfs_to_pngs('../data/vietnamese')\n",
    "convert_pdfs_to_pngs('../data/bahasa')"
   ]
  },
  {
   "cell_type": "markdown",
   "id": "915f1df5",
   "metadata": {},
   "source": [
    "## Benchmarking\n",
    "\n",
    "This section describes the steps done to benchmark OCR tools across different languages using the collected data.\n",
    "\n",
    "### Iteration v1\n",
    "\n",
    "In this iteration, I benchmarked on the 20 shortest English articles to get preliminary results quickly.\n",
    "\n",
    "Ranked in increasing lengths, the 20 shortest English articles are as follows:"
   ]
  },
  {
   "cell_type": "code",
   "execution_count": 1,
   "id": "751cba35",
   "metadata": {},
   "outputs": [],
   "source": [
    "shortest_articles = ['Polar_bear', \n",
    "                     'Mount_Rushmore',\n",
    "                     'Potato',\n",
    "                     'Burj_Khalifa',\n",
    "                     'Machu_Picchu',\n",
    "                     'Petra',\n",
    "                     'Animal',\n",
    "                     'Great_Wall_of_China',\n",
    "                     'Angkor_Wat',\n",
    "                     'Taj_Mahal',\n",
    "                     'Colosseum',\n",
    "                     'Japan',\n",
    "                     'Elizabeth_II',\n",
    "                     'Apple',\n",
    "                     'Photosynthesis',\n",
    "                     'Coronavirus',\n",
    "                     'Lionel_Messi',\n",
    "                     'Eiffel_Tower',\n",
    "                     'Large_Hadron_Collider',\n",
    "                     'Monaco']"
   ]
  },
  {
   "cell_type": "markdown",
   "id": "c3c85f7b",
   "metadata": {},
   "source": [
    "#### EasyOCR\n",
    "\n",
    "[EasyOCR](https://github.com/JaidedAI/EasyOCR) relies on a text detection model using the CRAFT algorithm and a recognition model using a Convolutional Recurrent Neural Network (CRNN). EasyOCR supports over 80 languages, including the ones I wish to test.\n",
    "\n",
    "Refer to EasyOCR's [supported languages](https://www.jaided.ai/easyocr/) for the mappings of language to EasyOCR language codes. "
   ]
  },
  {
   "cell_type": "code",
   "execution_count": 1,
   "id": "0f0a4823-2dfa-4f6d-854c-2b154cd19922",
   "metadata": {},
   "outputs": [],
   "source": [
    "import easyocr\n",
    "\n",
    "# This needs to run only once to load the model into memory\n",
    "en_reader = easyocr.Reader(['en']) \n",
    "th_reader = easyocr.Reader(['th'])\n",
    "vi_reader = easyocr.Reader(['vi'])\n",
    "id_reader = easyocr.Reader(['id'])"
   ]
  },
  {
   "cell_type": "code",
   "execution_count": 27,
   "id": "257669d8",
   "metadata": {},
   "outputs": [
    {
     "name": "stdout",
     "output_type": "stream",
     "text": [
      "Running on article: Polar_bear\n",
      "Finished! Time taken: 10.072195053100586 seconds\n",
      "Running on article: Mount_Rushmore\n",
      "Finished! Time taken: 6.677720785140991 seconds\n",
      "Running on article: Potato\n",
      "Finished! Time taken: 13.164318084716797 seconds\n",
      "Running on article: Burj_Khalifa\n",
      "Finished! Time taken: 7.71886420249939 seconds\n",
      "Running on article: Machu_Picchu\n",
      "Finished! Time taken: 7.411307096481323 seconds\n",
      "Running on article: Petra\n",
      "Finished! Time taken: 41.22079014778137 seconds\n",
      "Running on article: Animal\n",
      "Finished! Time taken: 77.12726211547852 seconds\n",
      "Running on article: Great_Wall_of_China\n",
      "Finished! Time taken: 24.797030925750732 seconds\n",
      "Running on article: Angkor_Wat\n",
      "Finished! Time taken: 24.021788120269775 seconds\n",
      "Running on article: Taj_Mahal\n",
      "Finished! Time taken: 4.959687948226929 seconds\n",
      "Running on article: Colosseum\n",
      "Finished! Time taken: 13.12365174293518 seconds\n",
      "Running on article: Japan\n",
      "Finished! Time taken: 81.3571708202362 seconds\n",
      "Running on article: Elizabeth_II\n",
      "Finished! Time taken: 98.42975115776062 seconds\n",
      "Running on article: Apple\n",
      "Finished! Time taken: 40.90665793418884 seconds\n",
      "Running on article: Photosynthesis\n",
      "Finished! Time taken: 30.54018211364746 seconds\n",
      "Running on article: Coronavirus\n",
      "Finished! Time taken: 18.192225694656372 seconds\n",
      "Running on article: Lionel_Messi\n",
      "Finished! Time taken: 123.42661190032959 seconds\n",
      "Running on article: Eiffel_Tower\n",
      "Finished! Time taken: 38.658467054367065 seconds\n",
      "Running on article: Large_Hadron_Collider\n",
      "Finished! Time taken: 23.15353012084961 seconds\n",
      "Running on article: Monaco\n",
      "Finished! Time taken: 39.690009117126465 seconds\n"
     ]
    }
   ],
   "source": [
    "from ocr import run_easy_ocr, run_easy_ocr_on_all\n",
    "\n",
    "# run_easy_ocr_on_all('../data/thai', th_reader)\n",
    "# run_easy_ocr_on_all('../data/english', en_reader)\n",
    "# run_easy_ocr_on_all('../data/vietnamese', vi_reader)\n",
    "# run_easy_ocr_on_all('../data/bahasa', id_reader)\n",
    "\n",
    "# run_easy_ocr(shortest_articles, '../data/thai', th_reader)\n",
    "# run_easy_ocr(shortest_articles, '../data/english', en_reader)\n",
    "# run_easy_ocr(shortest_articles, '../data/vietnamese', vi_reader)\n",
    "# run_easy_ocr(shortest_articles, '../data/bahasa', id_reader)"
   ]
  },
  {
   "cell_type": "markdown",
   "id": "9829bb34",
   "metadata": {},
   "source": [
    "#### Tesseract\n",
    "\n",
    "[Tesseract](https://github.com/tesseract-ocr/tesseract) uses a Long Short-Term Memory (LSTM) Recurrent Neural Network (RNN) architecture.\n",
    "\n",
    "Running the `pytesseract` library requires installing Tesseract. On macOS, I recommend using Homebrew:\n",
    "\n",
    "```bash\n",
    "brew install tesseract \n",
    "\n",
    "# To enable support for extra languages\n",
    "brew install tesseract-lang \n",
    "```"
   ]
  },
  {
   "cell_type": "code",
   "execution_count": 32,
   "id": "87d632ac",
   "metadata": {},
   "outputs": [
    {
     "name": "stdout",
     "output_type": "stream",
     "text": [
      "Running on article: Polar_bear\n",
      "Finished! Time taken: 1.6898150444030762 seconds\n",
      "Running on article: Mount_Rushmore\n",
      "Finished! Time taken: 25.245693922042847 seconds\n",
      "Running on article: Potato\n",
      "Finished! Time taken: 31.095876932144165 seconds\n",
      "Running on article: Burj_Khalifa\n",
      "Finished! Time taken: 35.45262694358826 seconds\n",
      "Running on article: Machu_Picchu\n",
      "Finished! Time taken: 31.326441764831543 seconds\n",
      "Running on article: Petra\n",
      "Finished! Time taken: 34.52344608306885 seconds\n",
      "Running on article: Animal\n",
      "Finished! Time taken: 40.00341296195984 seconds\n",
      "Running on article: Great_Wall_of_China\n",
      "Finished! Time taken: 24.967286109924316 seconds\n",
      "Running on article: Angkor_Wat\n",
      "Finished! Time taken: 31.587785005569458 seconds\n",
      "Running on article: Taj_Mahal\n",
      "Finished! Time taken: 33.6811089515686 seconds\n",
      "Running on article: Colosseum\n",
      "Finished! Time taken: 30.798343896865845 seconds\n",
      "Running on article: Japan\n",
      "Finished! Time taken: 344.9951889514923 seconds\n",
      "Running on article: Elizabeth_II\n",
      "Finished! Time taken: 1010.6846141815186 seconds\n",
      "Running on article: Apple\n",
      "Finished! Time taken: 40.134729862213135 seconds\n",
      "Running on article: Photosynthesis\n",
      "Finished! Time taken: 1012.1488351821899 seconds\n",
      "Running on article: Coronavirus\n",
      "Finished! Time taken: 49.98010587692261 seconds\n",
      "Running on article: Lionel_Messi\n",
      "Finished! Time taken: 1023.4877858161926 seconds\n",
      "Running on article: Eiffel_Tower\n",
      "Finished! Time taken: 36.53385400772095 seconds\n",
      "Running on article: Large_Hadron_Collider\n",
      "Finished! Time taken: 47.832847118377686 seconds\n",
      "Running on article: Monaco\n",
      "Finished! Time taken: 1086.4307949543 seconds\n",
      "Running on article: Polar_bear\n",
      "Finished! Time taken: 12.477193117141724 seconds\n",
      "Running on article: Mount_Rushmore\n",
      "Finished! Time taken: 9.61424207687378 seconds\n",
      "Running on article: Potato\n",
      "Finished! Time taken: 16.098806858062744 seconds\n",
      "Running on article: Burj_Khalifa\n",
      "Finished! Time taken: 18.925867795944214 seconds\n",
      "Running on article: Machu_Picchu\n",
      "Finished! Time taken: 14.867312908172607 seconds\n",
      "Running on article: Petra\n",
      "Finished! Time taken: 9.118306159973145 seconds\n",
      "Running on article: Animal\n",
      "Finished! Time taken: 14.586491823196411 seconds\n",
      "Running on article: Great_Wall_of_China\n",
      "Finished! Time taken: 938.9160192012787 seconds\n",
      "Running on article: Angkor_Wat\n",
      "Finished! Time taken: 15.427393913269043 seconds\n",
      "Running on article: Taj_Mahal\n",
      "Finished! Time taken: 14.48997688293457 seconds\n",
      "Running on article: Colosseum\n",
      "Finished! Time taken: 4.18121600151062 seconds\n",
      "Running on article: Japan\n",
      "Finished! Time taken: 44.99804997444153 seconds\n",
      "Running on article: Elizabeth_II\n",
      "Finished! Time taken: 41.78673982620239 seconds\n",
      "Running on article: Apple\n",
      "Finished! Time taken: 1007.3142538070679 seconds\n",
      "Running on article: Photosynthesis\n",
      "Finished! Time taken: 11.121402978897095 seconds\n",
      "Running on article: Coronavirus\n",
      "Finished! Time taken: 15.177448987960815 seconds\n",
      "Running on article: Lionel_Messi\n",
      "Finished! Time taken: 241.6668837070465 seconds\n",
      "Running on article: Eiffel_Tower\n",
      "Finished! Time taken: 217.90901803970337 seconds\n",
      "Running on article: Large_Hadron_Collider\n",
      "Finished! Time taken: 5.8062872886657715 seconds\n",
      "Running on article: Monaco\n",
      "Finished! Time taken: 6.602592945098877 seconds\n",
      "Running on article: Polar_bear\n",
      "Finished! Time taken: 3.805171012878418 seconds\n",
      "Running on article: Mount_Rushmore\n",
      "Finished! Time taken: 2.9562816619873047 seconds\n",
      "Running on article: Potato\n",
      "Finished! Time taken: 5.960585117340088 seconds\n",
      "Running on article: Burj_Khalifa\n",
      "Finished! Time taken: 957.1637217998505 seconds\n",
      "Running on article: Machu_Picchu\n",
      "Finished! Time taken: 3.2270421981811523 seconds\n",
      "Running on article: Petra\n",
      "Finished! Time taken: 19.06629705429077 seconds\n",
      "Running on article: Animal\n",
      "Finished! Time taken: 978.7947890758514 seconds\n",
      "Running on article: Great_Wall_of_China\n",
      "Finished! Time taken: 10.761167287826538 seconds\n",
      "Running on article: Angkor_Wat\n",
      "Finished! Time taken: 10.965112209320068 seconds\n",
      "Running on article: Taj_Mahal\n",
      "Finished! Time taken: 2.176999092102051 seconds\n",
      "Running on article: Colosseum\n",
      "Finished! Time taken: 5.873807907104492 seconds\n",
      "Running on article: Japan\n",
      "Finished! Time taken: 38.36423087120056 seconds\n",
      "Running on article: Elizabeth_II\n",
      "Finished! Time taken: 44.99312710762024 seconds\n",
      "Running on article: Apple\n",
      "Finished! Time taken: 18.662417888641357 seconds\n",
      "Running on article: Photosynthesis\n",
      "Finished! Time taken: 12.620097160339355 seconds\n",
      "Running on article: Coronavirus\n",
      "Finished! Time taken: 7.964362859725952 seconds\n",
      "Running on article: Lionel_Messi\n",
      "Finished! Time taken: 48.77440786361694 seconds\n",
      "Running on article: Eiffel_Tower\n",
      "Finished! Time taken: 17.16343593597412 seconds\n",
      "Running on article: Large_Hadron_Collider\n",
      "Finished! Time taken: 10.078487873077393 seconds\n",
      "Running on article: Monaco\n",
      "Finished! Time taken: 13.750849962234497 seconds\n"
     ]
    }
   ],
   "source": [
    "from ocr import run_tesseract, run_tesseract_on_all\n",
    "\n",
    "# run_tesseract_on_all('../data/thai', 'tha')\n",
    "# run_tesseract_on_all('../data/english', 'eng')\n",
    "# run_tesseract_on_all('../data/vietnamese', 'vie')\n",
    "# run_tesseract_on_all('../data/bahasa', 'ind')\n",
    "\n",
    "run_tesseract(shortest_articles, '../data/thai', 'tha')\n",
    "run_tesseract(shortest_articles, '../data/english', 'eng')\n",
    "run_tesseract(shortest_articles, '../data/vietnamese', 'vie')\n",
    "run_tesseract(shortest_articles, '../data/bahasa', 'ind')"
   ]
  },
  {
   "cell_type": "markdown",
   "id": "9576d80e",
   "metadata": {},
   "source": [
    "#### Preprocessing Results\n",
    "\n"
   ]
  },
  {
   "cell_type": "markdown",
   "id": "a6c54740",
   "metadata": {},
   "source": [
    "#### Evaluation\n",
    "\n",
    "To evaluate the accuracy of the OCR tools, I chose to use Character Error Rate (CER) and Word Error Rate (WER) using the [jiwer](https://jitsi.github.io/jiwer/) library. The values are rounded to 4 decimal places and exported into a CSV file.\n",
    "\n",
    "I previously tried [torchmetrics](https://lightning.ai/docs/torchmetrics/stable/), but it took 10-20 minutes to evaluate results for 1 article. jiwer is able to evaluate results in milliseconds.\n"
   ]
  },
  {
   "cell_type": "code",
   "execution_count": 2,
   "id": "b9efdee3",
   "metadata": {},
   "outputs": [],
   "source": [
    "from evaluate import evaluate_to_csv\n",
    "\n",
    "languages = ['english', 'thai', 'bahasa', 'vietnamese']\n",
    "\n",
    "for language in languages:\n",
    "    evaluate_to_csv(f'../data/{language}', 'text-clean.txt', 'easy-ocr-results-clean.txt', 'easy-ocr-evaluation')\n",
    "    evaluate_to_csv(f'../data/{language}', 'text-clean.txt', 'tesseract-results-clean.txt', 'tesseract-evaluation')"
   ]
  },
  {
   "cell_type": "markdown",
   "id": "4dd7f9c8",
   "metadata": {},
   "source": [
    "### Iteration v2\n",
    "\n"
   ]
  }
 ],
 "metadata": {
  "kernelspec": {
   "display_name": ".venv",
   "language": "python",
   "name": "python3"
  },
  "language_info": {
   "codemirror_mode": {
    "name": "ipython",
    "version": 3
   },
   "file_extension": ".py",
   "mimetype": "text/x-python",
   "name": "python",
   "nbconvert_exporter": "python",
   "pygments_lexer": "ipython3",
   "version": "3.12.4"
  }
 },
 "nbformat": 4,
 "nbformat_minor": 5
}
